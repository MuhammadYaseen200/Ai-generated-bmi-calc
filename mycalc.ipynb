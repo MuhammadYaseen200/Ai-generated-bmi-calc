{
  "nbformat": 4,
  "nbformat_minor": 0,
  "metadata": {
    "colab": {
      "provenance": [],
      "authorship_tag": "ABX9TyNZgUoJJOouVVak2CuGC8Cy"
    },
    "kernelspec": {
      "name": "python3",
      "display_name": "Python 3"
    },
    "language_info": {
      "name": "python"
    }
  },
  "cells": [
    {
      "cell_type": "code",
      "execution_count": 1,
      "metadata": {
        "colab": {
          "base_uri": "https://localhost:8080/",
          "height": 383
        },
        "id": "rVc8kKS9c0TP",
        "outputId": "044de526-0d30-4316-efbb-9e4928798c3f"
      },
      "outputs": [
        {
          "output_type": "error",
          "ename": "ModuleNotFoundError",
          "evalue": "No module named 'streamlit'",
          "traceback": [
            "\u001b[0;31m---------------------------------------------------------------------------\u001b[0m",
            "\u001b[0;31mModuleNotFoundError\u001b[0m                       Traceback (most recent call last)",
            "\u001b[0;32m<ipython-input-1-752758cb34df>\u001b[0m in \u001b[0;36m<cell line: 3>\u001b[0;34m()\u001b[0m\n\u001b[1;32m      1\u001b[0m \u001b[0;32mimport\u001b[0m \u001b[0mnumpy\u001b[0m \u001b[0;32mas\u001b[0m \u001b[0mnp\u001b[0m\u001b[0;34m\u001b[0m\u001b[0;34m\u001b[0m\u001b[0m\n\u001b[1;32m      2\u001b[0m \u001b[0;32mimport\u001b[0m \u001b[0mmatplotlib\u001b[0m\u001b[0;34m.\u001b[0m\u001b[0mpyplot\u001b[0m \u001b[0;32mas\u001b[0m \u001b[0mplt\u001b[0m\u001b[0;34m\u001b[0m\u001b[0;34m\u001b[0m\u001b[0m\n\u001b[0;32m----> 3\u001b[0;31m \u001b[0;32mimport\u001b[0m \u001b[0mstreamlit\u001b[0m \u001b[0;32mas\u001b[0m \u001b[0mst\u001b[0m\u001b[0;34m\u001b[0m\u001b[0;34m\u001b[0m\u001b[0m\n\u001b[0m\u001b[1;32m      4\u001b[0m \u001b[0;34m\u001b[0m\u001b[0m\n\u001b[1;32m      5\u001b[0m \u001b[0;31m# Simple Calculator Function\u001b[0m\u001b[0;34m\u001b[0m\u001b[0;34m\u001b[0m\u001b[0m\n",
            "\u001b[0;31mModuleNotFoundError\u001b[0m: No module named 'streamlit'",
            "",
            "\u001b[0;31m---------------------------------------------------------------------------\u001b[0;32m\nNOTE: If your import is failing due to a missing package, you can\nmanually install dependencies using either !pip or !apt.\n\nTo view examples of installing some common dependencies, click the\n\"Open Examples\" button below.\n\u001b[0;31m---------------------------------------------------------------------------\u001b[0m\n"
          ],
          "errorDetails": {
            "actions": [
              {
                "action": "open_url",
                "actionText": "Open Examples",
                "url": "/notebooks/snippets/importing_libraries.ipynb"
              }
            ]
          }
        }
      ],
      "source": [
        "import numpy as np\n",
        "import matplotlib.pyplot as plt\n",
        "import streamlit as st\n",
        "\n",
        "# Simple Calculator Function\n",
        "def simple_calculator():\n",
        "    st.write(\"## Simple Calculator\")\n",
        "    operation = st.selectbox(\"Choose an operation\", [\"+\", \"-\", \"*\", \"/\", \"**\", \"sqrt\"])\n",
        "\n",
        "    if operation == \"sqrt\":\n",
        "        num = st.number_input(\"Enter the number\", value=0.0)\n",
        "        if st.button(\"Calculate\"):\n",
        "            st.write(f\"Result: {np.sqrt(num)}\")\n",
        "    else:\n",
        "        num1 = st.number_input(\"Enter the first number\", value=0.0)\n",
        "        num2 = st.number_input(\"Enter the second number\", value=0.0)\n",
        "        if st.button(\"Calculate\"):\n",
        "            if operation == \"+\":\n",
        "                st.write(f\"Result: {num1 + num2}\")\n",
        "            elif operation == \"-\":\n",
        "                st.write(f\"Result: {num1 - num2}\")\n",
        "            elif operation == \"*\":\n",
        "                st.write(f\"Result: {num1 * num2}\")\n",
        "            elif operation == \"/\":\n",
        "                if num2 != 0:\n",
        "                    st.write(f\"Result: {num1 / num2}\")\n",
        "                else:\n",
        "                    st.write(\"Cannot divide by zero!\")\n",
        "            elif operation == \"**\":\n",
        "                st.write(f\"Result: {num1 ** num2}\")\n",
        "\n",
        "# Scientific Calculator Function\n",
        "def scientific_calculator():\n",
        "    st.write(\"## Scientific Calculator\")\n",
        "    operation = st.selectbox(\"Choose a function\", [\"sin\", \"cos\", \"tan\", \"exp\", \"log\"])\n",
        "    num = st.number_input(\"Enter the number\", value=0.0)\n",
        "\n",
        "    if st.button(\"Calculate\"):\n",
        "        if operation == \"sin\":\n",
        "            st.write(f\"Result: {np.sin(num)}\")\n",
        "        elif operation == \"cos\":\n",
        "            st.write(f\"Result: {np.cos(num)}\")\n",
        "        elif operation == \"tan\":\n",
        "            st.write(f\"Result: {np.tan(num)}\")\n",
        "        elif operation == \"exp\":\n",
        "            st.write(f\"Result: {np.exp(num)}\")\n",
        "        elif operation == \"log\":\n",
        "            if num > 0:\n",
        "                st.write(f\"Result: {np.log(num)}\")\n",
        "            else:\n",
        "                st.write(\"Logarithm undefined for non-positive numbers\")\n",
        "\n",
        "# Graphical Calculator Function\n",
        "def plot_graph(x, y, title):\n",
        "    fig, ax = plt.subplots()\n",
        "    ax.plot(x, y)\n",
        "    ax.axhline(0, color='black',linewidth=1)\n",
        "    ax.axvline(0, color='black',linewidth=1)\n",
        "    ax.set_title(title)\n",
        "    ax.set_xlabel('x-axis')\n",
        "    ax.set_ylabel('y-axis')\n",
        "    ax.grid(True)\n",
        "    st.pyplot(fig)\n",
        "\n",
        "def graphical_calculator():\n",
        "    st.write(\"## Graphical Calculator\")\n",
        "    graph_type = st.selectbox(\"Choose graph type\", [\"line\", \"parabola\", \"sine\", \"cosine\"])\n",
        "    x = np.linspace(-10, 10, 100)\n",
        "\n",
        "    if graph_type == \"line\":\n",
        "        m = st.number_input(\"Enter slope (m)\", value=1.0)\n",
        "        b = st.number_input(\"Enter intercept (b)\", value=0.0)\n",
        "        if st.button(\"Plot Line\"):\n",
        "            y = m * x + b\n",
        "            plot_graph(x, y, f'y = {m}x + {b}')\n",
        "\n",
        "    elif graph_type == \"parabola\":\n",
        "        a = st.number_input(\"Enter coefficient a\", value=1.0)\n",
        "        b = st.number_input(\"Enter coefficient b\", value=0.0)\n",
        "        c = st.number_input(\"Enter constant c\", value=0.0)\n",
        "        if st.button(\"Plot Parabola\"):\n",
        "            y = a * x**2 + b * x + c\n",
        "            plot_graph(x, y, f'y = {a}x² + {b}x + {c}')\n",
        "\n",
        "    elif graph_type == \"sine\":\n",
        "        if st.button(\"Plot Sine\"):\n",
        "            y = np.sin(x)\n",
        "            plot_graph(x, y, 'y = sin(x)')\n",
        "\n",
        "    elif graph_type == \"cosine\":\n",
        "        if st.button(\"Plot Cosine\"):\n",
        "            y = np.cos(x)\n",
        "            plot_graph(x, y, 'y = cos(x)')\n",
        "\n",
        "# Streamlit App Main Function\n",
        "def main():\n",
        "    st.title(\"Scientific, Simple, and Graphical Calculator\")\n",
        "\n",
        "    # Sidebar for calculator options\n",
        "    choice = st.sidebar.selectbox(\"Choose Calculator Type\", [\"Simple Calculator\", \"Scientific Calculator\", \"Graphical Calculator\"])\n",
        "\n",
        "    # Display corresponding calculator based on choice\n",
        "    if choice == \"Simple Calculator\":\n",
        "        simple_calculator()\n",
        "    elif choice == \"Scientific Calculator\":\n",
        "        scientific_calculator()\n",
        "    elif choice == \"Graphical Calculator\":\n",
        "        graphical_calculator()\n",
        "\n",
        "if __name__ == '__main__':\n",
        "    main()\n"
      ]
    }
  ]
}